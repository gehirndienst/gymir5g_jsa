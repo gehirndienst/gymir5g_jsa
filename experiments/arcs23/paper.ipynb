{
 "cells": [
  {
   "cell_type": "code",
   "execution_count": 2,
   "metadata": {},
   "outputs": [],
   "source": [
    "# don't touch this cell\n",
    "import os\n",
    "from gymirdrl import ROOT_DIR\n",
    "from gymirdrl.core.args import GymirArgs\n",
    "from gymirdrl.core.drl_manager import GymirDrlManager\n",
    "from gymirdrl.utils.parse_utils import parse_drl_args_to_gymir_args"
   ]
  },
  {
   "cell_type": "code",
   "execution_count": 6,
   "metadata": {},
   "outputs": [],
   "source": [
    "# FIXED ARGS\n",
    "args_dict = {\n",
    "    'sim_path': os.path.join(os.path.join(os.path.dirname(ROOT_DIR), \"simulations\"), \"baseDrlBg/omnetpp.ini\"),\n",
    "    'sim_port': 7895,\n",
    "    'runs': 1,\n",
    "    'update_period': 1.0,\n",
    "    'time_limit': 512,\n",
    "    'streams_cfg': \"/opt/omnetpp-workspace/gymir5g/experiments/arcs23/stream_cfg.json\",\n",
    "    'mode': \"eval\",\n",
    "    'env_cfg': \"/opt/omnetpp-workspace/gymir5g/experiments/arcs23/env_cfg.json\",\n",
    "    'model_name': \"sac\",\n",
    "    'model_file': \"/opt/omnetpp-workspace/gymir5g/experiments/arcs23/model.zip\",\n",
    "    'is_save_drl_log': True,\n",
    "    'is_save_sim_log': True,\n",
    "}\n",
    "\n",
    "args = parse_drl_args_to_gymir_args(args_dict)\n",
    "RESULTS_DIR = \"/opt/omnetpp-workspace/gymir5g/experiments/arcs23/results\"\n",
    "\n",
    "# Validation runs in the ARCS 23 paper:\n",
    "\n",
    "# EASY: SameRTCDirectNoFec, run 2\n",
    "# MODERATE: SameRTCDirectNoFec, run 37\n",
    "# HARD: HardRTCDirectNoFec, run 7\n",
    "\n",
    "def test_drl(args: GymirArgs, logdir: str = \"\") -> None:\n",
    "    manager = GymirDrlManager(args, save_log_path=os.path.join(RESULTS_DIR, logdir))\n",
    "    manager.eval()\n",
    "    manager.env.close()\n",
    "    \n",
    "def test_gcc(scenario: str, from_run: int, logdir: str = \"\") -> None:\n",
    "    os.chdir('/opt/omnetpp-workspace/gymir5g/simulations/baseDrlBg')\n",
    "    os.system(f\"./run -c {scenario} -r 1 -f {from_run} -sc {args.streams_cfg} -t 512 -ad abr_gcc -l {os.path.join(RESULTS_DIR, logdir)}\")\n"
   ]
  },
  {
   "cell_type": "code",
   "execution_count": null,
   "metadata": {},
   "outputs": [],
   "source": [
    "# validation runs\n",
    "\n",
    "args.sim_port = 6000\n",
    "\n",
    "## EASY DET\n",
    "args.scenario = \"SameRTCDirectNoFec\"\n",
    "args.from_run = 2\n",
    "args.deterministic = True\n",
    "test_drl(args, \"easy_drl_det\")\n",
    "\n",
    "## EASY NDET\n",
    "args.deterministic = False\n",
    "test_drl(args, \"easy_drl_ndet\")\n",
    "\n",
    "# EASY GCC\n",
    "test_gcc(\"SameRTCDirectNoFec\", 2, \"easy_gcc\")"
   ]
  },
  {
   "cell_type": "code",
   "execution_count": null,
   "metadata": {},
   "outputs": [],
   "source": [
    "args.sim_port = 6100\n",
    "\n",
    "## MODERATE DET\n",
    "args.scenario = \"SameRTCDirectNoFec\"\n",
    "args.from_run = 37\n",
    "args.deterministic = True\n",
    "test_drl(args, \"mod_drl_det\")\n",
    "\n",
    "## MODERATE NDET\n",
    "args.deterministic = False\n",
    "test_drl(args, \"mod_drl_ndet\")\n",
    "\n",
    "# MODERATE GCC\n",
    "test_gcc(\"SameRTCDirectNoFec\", 37, \"mod_gcc\")"
   ]
  },
  {
   "cell_type": "code",
   "execution_count": null,
   "metadata": {},
   "outputs": [],
   "source": [
    "args.sim_port = 6200\n",
    "\n",
    "## HARD DET\n",
    "args.scenario = \"HardRTCDirectNoFec\"\n",
    "args.from_run = 7\n",
    "args.deterministic = True\n",
    "test_drl(args, \"hard_drl_det\")\n",
    "\n",
    "## HARD NDET\n",
    "args.deterministic = False\n",
    "test_drl(args, \"hard_drl_ndet\")\n",
    "\n",
    "# HARD GCC\n",
    "test_gcc(\"HardRTCDirectNoFec\", 7, \"hard_gcc\")"
   ]
  }
 ],
 "metadata": {
  "kernelspec": {
   "display_name": "gymirdrl-1mdEahml-py3.11",
   "language": "python",
   "name": "python3"
  },
  "language_info": {
   "codemirror_mode": {
    "name": "ipython",
    "version": 3
   },
   "file_extension": ".py",
   "mimetype": "text/x-python",
   "name": "python",
   "nbconvert_exporter": "python",
   "pygments_lexer": "ipython3",
   "version": "3.11.4"
  },
  "orig_nbformat": 4
 },
 "nbformat": 4,
 "nbformat_minor": 2
}
